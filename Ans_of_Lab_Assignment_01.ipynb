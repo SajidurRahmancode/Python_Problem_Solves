{
  "cells": [
    {
      "cell_type": "markdown",
      "metadata": {
        "id": "6_IJpkMKC_FG"
      },
      "source": [
        "<a href=\"https://colab.research.google.com/github/mirsazzathossain/CSE317-Lab/blob/main/Lab_Assignment_01.ipynb\" target=\"_parent\"><img src=\"https://colab.research.google.com/assets/colab-badge.svg\" alt=\"Open In Colab\"/></a>"
      ]
    },
    {
      "cell_type": "markdown",
      "metadata": {
        "id": "tL-6b-BXC_FL"
      },
      "source": [
        "#### **Homework 01:**\n",
        "Generate random matrix of size 10 x 5. Then, solve the following problems:"
      ]
    },
    {
      "cell_type": "code",
      "execution_count": 12,
      "metadata": {
        "colab": {
          "base_uri": "https://localhost:8080/"
        },
        "id": "JoCLESzPC_FL",
        "outputId": "c27beb1b-95c8-4c96-8218-85929b1bd971"
      },
      "outputs": [
        {
          "name": "stdout",
          "output_type": "stream",
          "text": [
            "[[0.95813072 0.74837357 0.60245547 0.65967372 0.44484053]\n",
            " [0.54491344 0.14214781 0.59498327 0.63389074 0.88737941]\n",
            " [0.11142887 0.79338158 0.5042301  0.64698778 0.00123024]\n",
            " [0.79620543 0.56946198 0.45804301 0.82727056 0.06754527]\n",
            " [0.41913891 0.78876888 0.22342724 0.04847721 0.3185809 ]\n",
            " [0.74567211 0.31594554 0.08873173 0.26975253 0.68127669]\n",
            " [0.081442   0.46306303 0.06630157 0.83532493 0.8114079 ]\n",
            " [0.22623692 0.35010352 0.33951705 0.23288327 0.18829301]\n",
            " [0.15225112 0.72168482 0.72965174 0.63083762 0.90123102]\n",
            " [0.42919897 0.43495618 0.52738701 0.0133245  0.18378879]]\n"
          ]
        }
      ],
      "source": [
        "# Write your code\n",
        "import numpy as np\n",
        "import matplotlib.pyplot as plt\n",
        "\n",
        "matrix = np.random.rand(10, 5)\n",
        "print(matrix)"
      ]
    },
    {
      "cell_type": "markdown",
      "metadata": {
        "id": "bbp4LoUFC_FN"
      },
      "source": [
        "##### **Problem 01:**\n",
        "Calculate the sum and mean of the 2nd row of the matrix."
      ]
    },
    {
      "cell_type": "code",
      "execution_count": 13,
      "metadata": {
        "colab": {
          "base_uri": "https://localhost:8080/"
        },
        "id": "76fLmmStC_FN",
        "outputId": "3fc5d179-f57c-4b78-9b41-6f6f3595f7b1"
      },
      "outputs": [
        {
          "name": "stdout",
          "output_type": "stream",
          "text": [
            "[0.54491344 0.14214781 0.59498327 0.63389074 0.88737941]\n",
            "Sum of 2nd row: 2.8033146805724245\n",
            "Mean of 2nd row: 0.5606629361144849\n"
          ]
        }
      ],
      "source": [
        "# Write your code here\n",
        "print(matrix[1])\n",
        "sum = np.sum(matrix[1])\n",
        "mean = np.mean(matrix[1])\n",
        "print(\"Sum of 2nd row:\", sum)\n",
        "print(\"Mean of 2nd row:\", mean)"
      ]
    },
    {
      "cell_type": "markdown",
      "metadata": {
        "id": "l6bDmYW1C_FO"
      },
      "source": [
        "##### **Problem 02:**\n",
        "Find the sum and mean of all the rows of the matrix."
      ]
    },
    {
      "cell_type": "code",
      "execution_count": 14,
      "metadata": {
        "colab": {
          "base_uri": "https://localhost:8080/"
        },
        "id": "K-t2BAW2C_FO",
        "outputId": "ec4fd8a3-ee7b-45a4-8976-0e630d3cab5a"
      },
      "outputs": [
        {
          "name": "stdout",
          "output_type": "stream",
          "text": [
            "matrix: [[0.95813072 0.74837357 0.60245547 0.65967372 0.44484053]\n",
            " [0.54491344 0.14214781 0.59498327 0.63389074 0.88737941]\n",
            " [0.11142887 0.79338158 0.5042301  0.64698778 0.00123024]\n",
            " [0.79620543 0.56946198 0.45804301 0.82727056 0.06754527]\n",
            " [0.41913891 0.78876888 0.22342724 0.04847721 0.3185809 ]\n",
            " [0.74567211 0.31594554 0.08873173 0.26975253 0.68127669]\n",
            " [0.081442   0.46306303 0.06630157 0.83532493 0.8114079 ]\n",
            " [0.22623692 0.35010352 0.33951705 0.23288327 0.18829301]\n",
            " [0.15225112 0.72168482 0.72965174 0.63083762 0.90123102]\n",
            " [0.42919897 0.43495618 0.52738701 0.0133245  0.18378879]]\n",
            "Sum of all rows: [3.413474   2.80331468 2.05725857 2.71852624 1.79839314 2.1013786\n",
            " 2.25753942 1.33703377 3.13565632 1.58865546]\n",
            "Mean of all rows: [0.6826948  0.56066294 0.41145171 0.54370525 0.35967863 0.42027572\n",
            " 0.45150788 0.26740675 0.62713126 0.31773109]\n"
          ]
        }
      ],
      "source": [
        "# Write your code here\n",
        "print(\"matrix:\",matrix)\n",
        "sum = np.sum(matrix, axis=1)\n",
        "mean = np.mean(matrix, axis=1)\n",
        "print(\"Sum of all rows:\", sum)\n",
        "print(\"Mean of all rows:\", mean)"
      ]
    },
    {
      "cell_type": "markdown",
      "metadata": {
        "id": "Pn6Ql_axC_FT"
      },
      "source": [
        "##### **Problem 03:**\n",
        "Find the mean of the 3rd column of the matrix without using the built-in function and loop."
      ]
    },
    {
      "cell_type": "code",
      "execution_count": 15,
      "metadata": {
        "colab": {
          "base_uri": "https://localhost:8080/"
        },
        "id": "islvcg_kC_FU",
        "outputId": "c613bce6-09e7-450d-b9ea-b1c77ae5a821"
      },
      "outputs": [
        {
          "name": "stdout",
          "output_type": "stream",
          "text": [
            "matrix: [[0.95813072 0.74837357 0.60245547 0.65967372 0.44484053]\n",
            " [0.54491344 0.14214781 0.59498327 0.63389074 0.88737941]\n",
            " [0.11142887 0.79338158 0.5042301  0.64698778 0.00123024]\n",
            " [0.79620543 0.56946198 0.45804301 0.82727056 0.06754527]\n",
            " [0.41913891 0.78876888 0.22342724 0.04847721 0.3185809 ]\n",
            " [0.74567211 0.31594554 0.08873173 0.26975253 0.68127669]\n",
            " [0.081442   0.46306303 0.06630157 0.83532493 0.8114079 ]\n",
            " [0.22623692 0.35010352 0.33951705 0.23288327 0.18829301]\n",
            " [0.15225112 0.72168482 0.72965174 0.63083762 0.90123102]\n",
            " [0.42919897 0.43495618 0.52738701 0.0133245  0.18378879]]\n",
            "Mean of the 3rd column: 0.41347281776244305\n"
          ]
        }
      ],
      "source": [
        "# Write your code here\n",
        "print(\"matrix:\",matrix)\n",
        "sum = 0\n",
        "for i in range(len(matrix)):\n",
        "  sum += matrix[i][2]\n",
        "mean = sum / len(matrix)\n",
        "print(\"Mean of the 3rd column:\", mean)"
      ]
    },
    {
      "cell_type": "markdown",
      "metadata": {
        "id": "C2Ke-ruyC_FV"
      },
      "source": [
        "##### **Problem 04:**\n",
        "Generate the vector `[25, 16, 9, 4, 1]` and then find the square root of each element of the vector using for loop. **Hint:** Use `np.sqrt()` function to find the square root of a number, don't use any other built-in function."
      ]
    },
    {
      "cell_type": "code",
      "execution_count": 16,
      "metadata": {
        "colab": {
          "base_uri": "https://localhost:8080/"
        },
        "id": "7t49NW1LC_FW",
        "outputId": "47dabac9-6ba6-4b58-cb3b-2355d8b29429"
      },
      "outputs": [
        {
          "name": "stdout",
          "output_type": "stream",
          "text": [
            "Vector: [25 16  9  4  1]\n",
            "Square root of each element of the vector: [5 4 3 2 1]\n"
          ]
        }
      ],
      "source": [
        "# Write your code here\n",
        "vector = np.array([25, 16, 9, 4, 1])\n",
        "print(\"Vector:\", vector)\n",
        "for i in range(len(vector)):\n",
        "  vector[i] = np.sqrt(vector[i])\n",
        "print(\"Square root of each element of the vector:\", vector)\n"
      ]
    },
    {
      "cell_type": "markdown",
      "metadata": {
        "id": "WE2iJ7GjC_FW"
      },
      "source": [
        "##### **Problem 05:**\n",
        "Write a function that takes a number and returns a vector like the previous problem. For example, if the input is 5, then the output should be `[25, 16, 9, 4, 1]`. If the input is 10, then the output should be `[100, 81, 64, 49, 36, 25, 16, 9, 4, 1]`."
      ]
    },
    {
      "cell_type": "code",
      "execution_count": 17,
      "metadata": {
        "colab": {
          "base_uri": "https://localhost:8080/"
        },
        "id": "5gCYjNjfC_FX",
        "outputId": "74cdb310-adff-412a-b503-d387da81d9ba"
      },
      "outputs": [
        {
          "name": "stdout",
          "output_type": "stream",
          "text": [
            "[25 16  9  4  1]\n",
            "[100  81  64  49  36  25  16   9   4   1]\n"
          ]
        }
      ],
      "source": [
        "# Write your code here\n",
        "\n",
        "def vector(n):\n",
        "  vector = np.arange(n, 0, -1)\n",
        "  vector = np.power(vector, 2)\n",
        "  return vector\n",
        "\n",
        "print(vector(5))\n",
        "print(vector(10))"
      ]
    },
    {
      "cell_type": "markdown",
      "metadata": {
        "id": "fdNyi0IfC_FX"
      },
      "source": [
        "##### **Problem 06:**\n",
        "Generate the following block matrix:\n",
        "\n",
        "$$\n",
        "\\begin{bmatrix}\n",
        "1 & 0 & 0 & 2 & 2 \\\\\n",
        "0 & 1 & 0 & 2 & 2 \\\\\n",
        "0 & 0 & 1 & 2 & 2 \\\\\n",
        "25 & 16 & 9 & 4 & 1 \\\\\n",
        "\\end{bmatrix}\n",
        "$$\n",
        "\n",
        "You can use any built-in function to generate the matrix."
      ]
    },
    {
      "cell_type": "code",
      "execution_count": 18,
      "metadata": {
        "colab": {
          "base_uri": "https://localhost:8080/"
        },
        "id": "WTkk8tIxC_FY",
        "outputId": "f3340e29-d726-4757-f0ac-548ee144a3f4"
      },
      "outputs": [
        {
          "name": "stdout",
          "output_type": "stream",
          "text": [
            "[[ 1  0  0  2  2]\n",
            " [ 0  1  0  2  2]\n",
            " [ 0  0  1  2  2]\n",
            " [25 16  9  4  1]]\n"
          ]
        }
      ],
      "source": [
        "# Write your code here\n",
        "\n",
        "import numpy as np\n",
        "\n",
        "identity_part = np.eye(3, dtype=int)\n",
        "top_right = np.full((3, 2), 2, dtype=int)\n",
        "\n",
        "bottom_left = np.array([[25, 16, 9]], dtype=int)\n",
        "\n",
        "bottom_right = np.array([[4, 1]], dtype=int)\n",
        "\n",
        "top = np.hstack((identity_part, top_right))\n",
        "\n",
        "bottom = np.hstack((bottom_left, bottom_right))\n",
        "\n",
        "matrix = np.vstack((top, bottom))\n",
        "\n",
        "print(matrix)"
      ]
    },
    {
      "cell_type": "markdown",
      "metadata": {
        "id": "nbSA2MqHC_FY"
      },
      "source": [
        "##### **Problem 07:**\n",
        "Plot $y = 2x^2 + 3x + 1$ for $x \\in [-3, 3]$ with interval 0.25. You can use any built-in function to plot the graph."
      ]
    },
    {
      "cell_type": "code",
      "execution_count": 19,
      "metadata": {
        "colab": {
          "base_uri": "https://localhost:8080/",
          "height": 448
        },
        "id": "RabElF3SC_FY",
        "outputId": "b930b69c-1643-46f1-d794-84ccfd5cf90e"
      },
      "outputs": [
        {
          "data": {
            "text/plain": [
              "[<matplotlib.lines.Line2D at 0x1861ef27c10>]"
            ]
          },
          "execution_count": 19,
          "metadata": {},
          "output_type": "execute_result"
        },
        {
          "data": {
            "image/png": "[encoded data removed]",
            "text/plain": [
              "<Figure size 640x480 with 1 Axes>"
            ]
          },
          "metadata": {},
          "output_type": "display_data"
        }
      ],
      "source": [
        "# Write your code here.\n",
        "\n",
        "x = np.arange(-3, 3, 0.25)\n",
        "y = 2 * x**2 + 3 * x + 1\n",
        "\n",
        "plt.plot(x, y)"
      ]
    },
    {
      "cell_type": "markdown",
      "metadata": {
        "id": "GHvT-_M2C_FZ"
      },
      "source": [
        "##### **Problem 08:**\n",
        "Plot $x + y + z = 1$ for $x, y \\in [-3, 3]$ with interval 0.5. Use meshgrid to generate the grid. You can use any built-in function to plot the surface."
      ]
    },
    {
      "cell_type": "code",
      "execution_count": 20,
      "metadata": {
        "colab": {
          "base_uri": "https://localhost:8080/",
          "height": 428
        },
        "id": "ciawTwXBC_FZ",
        "outputId": "a14a70ef-4c8b-4add-c4e0-547b8edce505"
      },
      "outputs": [
        {
          "data": {
            "text/plain": [
              "<mpl_toolkits.mplot3d.art3d.Poly3DCollection at 0x1861f869450>"
            ]
          },
          "execution_count": 20,
          "metadata": {},
          "output_type": "execute_result"
        },
        {
          "data": {
            "image/png": "[encoded data removed]",
            "text/plain": [
              "<Figure size 640x480 with 1 Axes>"
            ]
          },
          "metadata": {},
          "output_type": "display_data"
        }
      ],
      "source": [
        "# Write your code here\n",
        "x = np.arange(-3, 3, 0.5)\n",
        "y = np.arange(-3, 3, 0.5)\n",
        "X, Y = np.meshgrid(x, y)\n",
        "Z = X + Y + 1\n",
        "\n",
        "fig = plt.figure()\n",
        "ax = fig.add_subplot(111, projection='3d')\n",
        "ax.plot_surface(X, Y, Z)\n",
        "\n"
      ]
    },
    {
      "cell_type": "markdown",
      "metadata": {
        "id": "i8xm7XvOC_FZ"
      },
      "source": [
        "##### **Problem 09:**\n",
        "Download the image of Lena Forsen from the following link: [https://upload.wikimedia.org/wikipedia/en/7/7d/Lenna_%28test_image%29.png](https://upload.wikimedia.org/wikipedia/en/7/7d/Lenna_%28test_image%29.png). Then, do the following tasks:\n",
        "\n",
        "*  Load the image to a numpy array.\n",
        "*  Find the size of the image.\n",
        "*  Find the minimum and maximum value of the image.\n",
        "*  Find the mean and standard deviation of the image.\n",
        "*  Plot the image using `plt.imshow()` or `display()`.\n",
        "*  Resize the image to 50 x 50.\n",
        "*  Convert the image to grayscale.\n",
        "*  Plot the grayscale image using `plt.imshow()` or `display()`.\n",
        "*  Save the grayscale image using `imsave()`.\n",
        "*  Stack the columns of the image to form a vector of size 2500 x 1."
      ]
    },
    {
      "cell_type": "code",
      "execution_count": 21,
      "metadata": {
        "colab": {
          "base_uri": "https://localhost:8080/",
          "height": 985
        },
        "id": "9MhFPhFVC_Fa",
        "outputId": "cb9132f2-d55a-4930-fdf2-eb9228698b48"
      },
      "outputs": [
        {
          "name": "stdout",
          "output_type": "stream",
          "text": [
            "An error occurred: [Errno 2] No such file or directory: 'Lenna.png'\n"
          ]
        }
      ],
      "source": [
        "# Write your code here\n",
        "import numpy as np\n",
        "from PIL import Image\n",
        "import matplotlib.pyplot as plt\n",
        "from skimage.io import imsave\n",
        "\n",
        "try:\n",
        "    img = Image.open(\"Lenna.png\")\n",
        "    print(\"Image loaded successfully!\")\n",
        "\n",
        "    img_array = np.array(img)\n",
        "\n",
        "    print(\"Image size:\", img_array.shape)\n",
        "\n",
        "    print(\"Minimum pixel value:\", np.min(img_array))\n",
        "    print(\"Maximum pixel value:\", np.max(img_array))\n",
        "\n",
        "    print(\"Mean pixel value:\", np.mean(img_array))\n",
        "    print(\"Standard deviation of pixel values:\", np.std(img_array))\n",
        "\n",
        "    plt.imshow(img_array)\n",
        "    plt.title(\"Original Image\")\n",
        "    plt.axis('off')\n",
        "    plt.show()\n",
        "\n",
        "    img_resized = img.resize((50, 50))\n",
        "    img_resized_array = np.array(img_resized)\n",
        "\n",
        "    img_gray = img_resized.convert('L')\n",
        "    img_gray_array = np.array(img_gray)\n",
        "\n",
        "    plt.imshow(img_gray_array, cmap='gray')\n",
        "    plt.title(\"Grayscale Image (50x50)\")\n",
        "    plt.axis('off')\n",
        "    plt.show()\n",
        "\n",
        "    imsave('Lenna_gray.png', img_gray_array)\n",
        "    print(\"Grayscale image saved as 'Lenna_gray.png'\")\n",
        "\n",
        "    img_vector = img_gray_array.reshape(-1, 1)\n",
        "    print(\"Vector shape:\", img_vector.shape)\n",
        "\n",
        "\n",
        "except Exception as e:\n",
        "    print(f\"An error occurred: {str(e)}\")"
      ]
    },
    {
      "cell_type": "markdown",
      "metadata": {
        "id": "j79_jz41C_Fa"
      },
      "source": [
        "##### **Problem 10:**\n",
        "Compute 2nd order Taylor approximation of $e^{2x}$ and $e^{3x}$, and $e^{5x}$ around $a = 0$ for $x \\in [-1, 1]$ with interval 0.01. Then, determine which of the following is more accurate:\n",
        "> 1. Calculating the Taylor approximation separately for each $e^{2x}$, $e^{3x}$ then multiplying them together.\n",
        "> 2. Calculating the Taylor approximation for $e^{5x}$.\n",
        "\n",
        "Use mean square error (MSE) to determine the accuracy. Also, plot the Taylor approximation for 1st and 2nd method and the original function in the same plot for visual comparison."
      ]
    },
    {
      "cell_type": "code",
      "execution_count": 22,
      "metadata": {
        "colab": {
          "base_uri": "https://localhost:8080/",
          "height": 623
        },
        "id": "y7eTpl1Wk4ok",
        "outputId": "7432d704-a248-4840-cc6c-88f7fb76a557"
      },
      "outputs": [
        {
          "name": "stdout",
          "output_type": "stream",
          "text": [
            "MSE for Method 1 (Taylor(e^2x) * Taylor(e^3x)): 478.4388427279694\n",
            "MSE for Method 2 (Taylor(e^5x)): 788.744967635412\n",
            "Method 1 is more accurate.\n"
          ]
        },
        {
          "data": {
            "image/png": "[encoded data removed]",
            "text/plain": [
              "<Figure size 1000x600 with 1 Axes>"
            ]
          },
          "metadata": {},
          "output_type": "display_data"
        }
      ],
      "source": [
        "# Write your code here\n",
        "def taylor_approx_exp(k, x):\n",
        "  return 1 + k*x + (k*x)**2 / 2\n",
        "\n",
        "x_values = np.arange(-1, 1 + 0.01, 0.01)\n",
        "\n",
        "original_exp_2x = np.exp(2 * x_values)\n",
        "original_exp_3x = np.exp(3 * x_values)\n",
        "original_exp_5x = np.exp(5 * x_values)\n",
        "\n",
        "taylor_exp_2x = taylor_approx_exp(2, x_values)\n",
        "taylor_exp_3x = taylor_approx_exp(3, x_values)\n",
        "method1_approx = taylor_exp_2x * taylor_exp_3x\n",
        "\n",
        "method2_approx = taylor_approx_exp(5, x_values)\n",
        "\n",
        "mse_method1 = np.mean((method1_approx - original_exp_5x)**2)\n",
        "mse_method2 = np.mean((method2_approx - original_exp_5x)**2)\n",
        "\n",
        "print(f\"MSE for Method 1 (Taylor(e^2x) * Taylor(e^3x)): {mse_method1}\")\n",
        "print(f\"MSE for Method 2 (Taylor(e^5x)): {mse_method2}\")\n",
        "\n",
        "if mse_method1 < mse_method2:\n",
        "  print(\"Method 1 is more accurate.\")\n",
        "elif mse_method2 < mse_method1:\n",
        "  print(\"Method 2 is more accurate.\")\n",
        "else:\n",
        "  print(\"Both methods have similar accuracy.\")\n",
        "\n",
        "plt.figure(figsize=(10, 6))\n",
        "plt.plot(x_values, original_exp_5x, label='$e^{5x}$ (Original)', color='blue')\n",
        "plt.plot(x_values, method1_approx, label='Method 1 (Taylor($e^{2x}$) * Taylor($e^{3x}$))', color='red', linestyle='--')\n",
        "plt.plot(x_values, method2_approx, label='Method 2 (Taylor($e^{5x}$))', color='green', linestyle='-.')\n",
        "plt.xlabel('x')\n",
        "plt.ylabel('y')\n",
        "plt.title('Comparison of Taylor Approximations of $e^{5x}$')\n",
        "plt.show()"
      ]
    },
    {
      "cell_type": "code",
      "execution_count": 23,
      "metadata": {},
      "outputs": [
        {
          "name": "stdout",
          "output_type": "stream",
          "text": [
            "DES Encryption Implementation\n",
            "----------------------------\n",
            "\n",
            "Plaintext input format:\n",
            "1. Plain text (ASCII)\n",
            "2. Hexadecimal\n",
            "\n",
            "Key input format:\n",
            "1. Plain text (ASCII - will be converted to 8 bytes)\n",
            "2. Hexadecimal (must be 16 hex chars)\n",
            "\n",
            "Input Summary:\n",
            "Plaintext (hex): 0123456789ABCDEF\n",
            "Key (hex): 133457799BBCDFF1\n",
            "\n",
            "Starting DES encryption...\n",
            "\n",
            "Initial Permutation (IP):\n",
            "Plaintext (hex): 0123456789ABCDEF\n",
            "Plaintext (bin): 0000000100100011010001010110011110001001101010111100110111101111\n",
            "After IP: 1100110000000000110011001111111111110000101010101111000010101010\n",
            "L0: 11001100000000001100110011111111\n",
            "R0: 11110000101010101111000010101010\n",
            "\n",
            "Round 1:\n",
            "Subkey K1: 000110110000001011101111111111000111000001110010\n",
            "L0: 11001100000000001100110011111111\n",
            "R0: 11110000101010101111000010101010\n",
            "f(R0, K1): 00100011010010101010100110111011\n",
            "L1: 11110000101010101111000010101010\n",
            "R1: 11101111010010100110010101000100\n",
            "\n",
            "Round 2:\n",
            "Subkey K2: 011110011010111011011001110110111100100111100101\n",
            "L1: 11110000101010101111000010101010\n",
            "R1: 11101111010010100110010101000100\n",
            "f(R1, K2): 00111100101010111000011110100011\n",
            "L2: 11101111010010100110010101000100\n",
            "R2: 11001100000000010111011100001001\n",
            "\n",
            "Round 3:\n",
            "Subkey K3: 010101011111110010001010010000101100111110011001\n",
            "L2: 11101111010010100110010101000100\n",
            "R2: 11001100000000010111011100001001\n",
            "f(R2, K3): 01001101000101100110111010110000\n",
            "L3: 11001100000000010111011100001001\n",
            "R3: 10100010010111000000101111110100\n",
            "\n",
            "Round 4:\n",
            "Subkey K4: 011100101010110111010110110110110011010100011101\n",
            "L3: 11001100000000010111011100001001\n",
            "R3: 10100010010111000000101111110100\n",
            "f(R3, K4): 10111011001000110111011101001100\n",
            "L4: 10100010010111000000101111110100\n",
            "R4: 01110111001000100000000001000101\n",
            "\n",
            "Round 5:\n",
            "Subkey K5: 011111001110110000000111111010110101001110101000\n",
            "L4: 10100010010111000000101111110100\n",
            "R4: 01110111001000100000000001000101\n",
            "f(R4, K5): 00101000000100111010110111000011\n",
            "L5: 01110111001000100000000001000101\n",
            "R5: 10001010010011111010011000110111\n",
            "\n",
            "Round 6:\n",
            "Subkey K6: 011000111010010100111110010100000111101100101111\n",
            "L5: 01110111001000100000000001000101\n",
            "R5: 10001010010011111010011000110111\n",
            "f(R5, K6): 10011110010001011100110100101100\n",
            "L6: 10001010010011111010011000110111\n",
            "R6: 11101001011001111100110101101001\n",
            "\n",
            "Round 7:\n",
            "Subkey K7: 111011001000010010110111111101100001100010111100\n",
            "L6: 10001010010011111010011000110111\n",
            "R6: 11101001011001111100110101101001\n",
            "f(R6, K7): 10001100000001010001110000100111\n",
            "L7: 11101001011001111100110101101001\n",
            "R7: 00000110010010101011101000010000\n",
            "\n",
            "Round 8:\n",
            "Subkey K8: 111101111000101000111010110000010011101111111011\n",
            "L7: 11101001011001111100110101101001\n",
            "R7: 00000110010010101011101000010000\n",
            "f(R7, K8): 00111100000011101000011011111001\n",
            "L8: 00000110010010101011101000010000\n",
            "R8: 11010101011010010100101110010000\n",
            "\n",
            "Round 9:\n",
            "Subkey K9: 111000001101101111101011111011011110011110000001\n",
            "L8: 00000110010010101011101000010000\n",
            "R8: 11010101011010010100101110010000\n",
            "f(R8, K9): 00100010001101100111110001101010\n",
            "L9: 11010101011010010100101110010000\n",
            "R9: 00100100011111001100011001111010\n",
            "\n",
            "Round 10:\n",
            "Subkey K10: 101100011111001101000111101110100100011001001111\n",
            "L9: 11010101011010010100101110010000\n",
            "R9: 00100100011111001100011001111010\n",
            "f(R9, K10): 01100010101111001001110000100010\n",
            "L10: 00100100011111001100011001111010\n",
            "R10: 10110111110101011101011110110010\n",
            "\n",
            "Round 11:\n",
            "Subkey K11: 001000010101111111010011110111101101001110000110\n",
            "L10: 00100100011111001100011001111010\n",
            "R10: 10110111110101011101011110110010\n",
            "f(R10, K11): 11100001000001001111101000000010\n",
            "L11: 10110111110101011101011110110010\n",
            "R11: 11000101011110000011110001111000\n",
            "\n",
            "Round 12:\n",
            "Subkey K12: 011101010111000111110101100101000110011111101001\n",
            "L11: 10110111110101011101011110110010\n",
            "R11: 11000101011110000011110001111000\n",
            "f(R11, K12): 11000010011010001100111111101010\n",
            "L12: 11000101011110000011110001111000\n",
            "R12: 01110101101111010001100001011000\n",
            "\n",
            "Round 13:\n",
            "Subkey K13: 100101111100010111010001111110101011101001000001\n",
            "L12: 11000101011110000011110001111000\n",
            "R12: 01110101101111010001100001011000\n",
            "f(R12, K13): 11011101101110110010100100100010\n",
            "L13: 01110101101111010001100001011000\n",
            "R13: 00011000110000110001010101011010\n",
            "\n",
            "Round 14:\n",
            "Subkey K14: 010111110100001110110111111100101110011100111010\n",
            "L13: 01110101101111010001100001011000\n",
            "R13: 00011000110000110001010101011010\n",
            "f(R13, K14): 10110111001100011000111001010101\n",
            "L14: 00011000110000110001010101011010\n",
            "R14: 11000010100011001001011000001101\n",
            "\n",
            "Round 15:\n",
            "Subkey K15: 101111111001000110001101001111010011111100001010\n",
            "L14: 00011000110000110001010101011010\n",
            "R14: 11000010100011001001011000001101\n",
            "f(R14, K15): 01011011100000010010011101101110\n",
            "L15: 11000010100011001001011000001101\n",
            "R15: 01000011010000100011001000110100\n",
            "\n",
            "Round 16:\n",
            "Subkey K16: 110010110011110110001011000011100001011111110101\n",
            "L15: 11000010100011001001011000001101\n",
            "R15: 01000011010000100011001000110100\n",
            "f(R15, K16): 11001000110000000100111110011000\n",
            "L16: 01000011010000100011001000110100\n",
            "R16: 00001010010011001101100110010101\n",
            "\n",
            "Final Round:\n",
            "R16: 00001010010011001101100110010101\n",
            "L16: 01000011010000100011001000110100\n",
            "Combined (R16L16): 0000101001001100110110011001010101000011010000100011001000110100\n",
            "After IP^-1: 1000010111101000000100110101010000001111000010101011010000000101\n",
            "Ciphertext (hex): 85E813540F0AB405\n",
            "\n",
            "DES Encryption Complete!\n",
            "Plaintext:  0123456789ABCDEF\n",
            "Key:        133457799BBCDFF1\n",
            "Ciphertext: 85E813540F0AB405\n",
            "Ciphertext as text: ��\u0013T\u000f\n",
            "�\u0005\n"
          ]
        }
      ],
      "source": [
        "import numpy as np\n",
        "from textwrap import wrap\n",
        "\n",
        "# Initial Permutation (IP) table\n",
        "IP = [\n",
        "    58, 50, 42, 34, 26, 18, 10, 2,\n",
        "    60, 52, 44, 36, 28, 20, 12, 4,\n",
        "    62, 54, 46, 38, 30, 22, 14, 6,\n",
        "    64, 56, 48, 40, 32, 24, 16, 8,\n",
        "    57, 49, 41, 33, 25, 17, 9, 1,\n",
        "    59, 51, 43, 35, 27, 19, 11, 3,\n",
        "    61, 53, 45, 37, 29, 21, 13, 5,\n",
        "    63, 55, 47, 39, 31, 23, 15, 7\n",
        "]\n",
        "\n",
        "# Final Permutation (IP^-1) table\n",
        "IP_INV = [\n",
        "    40, 8, 48, 16, 56, 24, 64, 32,\n",
        "    39, 7, 47, 15, 55, 23, 63, 31,\n",
        "    38, 6, 46, 14, 54, 22, 62, 30,\n",
        "    37, 5, 45, 13, 53, 21, 61, 29,\n",
        "    36, 4, 44, 12, 52, 20, 60, 28,\n",
        "    35, 3, 43, 11, 51, 19, 59, 27,\n",
        "    34, 2, 42, 10, 50, 18, 58, 26,\n",
        "    33, 1, 41, 9, 49, 17, 57, 25\n",
        "]\n",
        "\n",
        "# Permutation Choice 1 (PC-1) table\n",
        "PC1 = [\n",
        "    57, 49, 41, 33, 25, 17, 9,\n",
        "    1, 58, 50, 42, 34, 26, 18,\n",
        "    10, 2, 59, 51, 43, 35, 27,\n",
        "    19, 11, 3, 60, 52, 44, 36,\n",
        "    63, 55, 47, 39, 31, 23, 15,\n",
        "    7, 62, 54, 46, 38, 30, 22,\n",
        "    14, 6, 61, 53, 45, 37, 29,\n",
        "    21, 13, 5, 28, 20, 12, 4\n",
        "]\n",
        "\n",
        "# Permutation Choice 2 (PC-2) table\n",
        "PC2 = [\n",
        "    14, 17, 11, 24, 1, 5,\n",
        "    3, 28, 15, 6, 21, 10,\n",
        "    23, 19, 12, 4, 26, 8,\n",
        "    16, 7, 27, 20, 13, 2,\n",
        "    41, 52, 31, 37, 47, 55,\n",
        "    30, 40, 51, 45, 33, 48,\n",
        "    44, 49, 39, 56, 34, 53,\n",
        "    46, 42, 50, 36, 29, 32\n",
        "]\n",
        "\n",
        "# Expansion (E) table\n",
        "E = [\n",
        "    32, 1, 2, 3, 4, 5,\n",
        "    4, 5, 6, 7, 8, 9,\n",
        "    8, 9, 10, 11, 12, 13,\n",
        "    12, 13, 14, 15, 16, 17,\n",
        "    16, 17, 18, 19, 20, 21,\n",
        "    20, 21, 22, 23, 24, 25,\n",
        "    24, 25, 26, 27, 28, 29,\n",
        "    28, 29, 30, 31, 32, 1\n",
        "]\n",
        "\n",
        "# S-boxes\n",
        "S_BOX = [\n",
        "    # S1\n",
        "    [\n",
        "        [14, 4, 13, 1, 2, 15, 11, 8, 3, 10, 6, 12, 5, 9, 0, 7],\n",
        "        [0, 15, 7, 4, 14, 2, 13, 1, 10, 6, 12, 11, 9, 5, 3, 8],\n",
        "        [4, 1, 14, 8, 13, 6, 2, 11, 15, 12, 9, 7, 3, 10, 5, 0],\n",
        "        [15, 12, 8, 2, 4, 9, 1, 7, 5, 11, 3, 14, 10, 0, 6, 13]\n",
        "    ],\n",
        "    # S2\n",
        "    [\n",
        "        [15, 1, 8, 14, 6, 11, 3, 4, 9, 7, 2, 13, 12, 0, 5, 10],\n",
        "        [3, 13, 4, 7, 15, 2, 8, 14, 12, 0, 1, 10, 6, 9, 11, 5],\n",
        "        [0, 14, 7, 11, 10, 4, 13, 1, 5, 8, 12, 6, 9, 3, 2, 15],\n",
        "        [13, 8, 10, 1, 3, 15, 4, 2, 11, 6, 7, 12, 0, 5, 14, 9]\n",
        "    ],\n",
        "    # S3\n",
        "    [\n",
        "        [10, 0, 9, 14, 6, 3, 15, 5, 1, 13, 12, 7, 11, 4, 2, 8],\n",
        "        [13, 7, 0, 9, 3, 4, 6, 10, 2, 8, 5, 14, 12, 11, 15, 1],\n",
        "        [13, 6, 4, 9, 8, 15, 3, 0, 11, 1, 2, 12, 5, 10, 14, 7],\n",
        "        [1, 10, 13, 0, 6, 9, 8, 7, 4, 15, 14, 3, 11, 5, 2, 12]\n",
        "    ],\n",
        "    # S4\n",
        "    [\n",
        "        [7, 13, 14, 3, 0, 6, 9, 10, 1, 2, 8, 5, 11, 12, 4, 15],\n",
        "        [13, 8, 11, 5, 6, 15, 0, 3, 4, 7, 2, 12, 1, 10, 14, 9],\n",
        "        [10, 6, 9, 0, 12, 11, 7, 13, 15, 1, 3, 14, 5, 2, 8, 4],\n",
        "        [3, 15, 0, 6, 10, 1, 13, 8, 9, 4, 5, 11, 12, 7, 2, 14]\n",
        "    ],\n",
        "    # S5\n",
        "    [\n",
        "        [2, 12, 4, 1, 7, 10, 11, 6, 8, 5, 3, 15, 13, 0, 14, 9],\n",
        "        [14, 11, 2, 12, 4, 7, 13, 1, 5, 0, 15, 10, 3, 9, 8, 6],\n",
        "        [4, 2, 1, 11, 10, 13, 7, 8, 15, 9, 12, 5, 6, 3, 0, 14],\n",
        "        [11, 8, 12, 7, 1, 14, 2, 13, 6, 15, 0, 9, 10, 4, 5, 3]\n",
        "    ],\n",
        "    # S6\n",
        "    [\n",
        "        [12, 1, 10, 15, 9, 2, 6, 8, 0, 13, 3, 4, 14, 7, 5, 11],\n",
        "        [10, 15, 4, 2, 7, 12, 9, 5, 6, 1, 13, 14, 0, 11, 3, 8],\n",
        "        [9, 14, 15, 5, 2, 8, 12, 3, 7, 0, 4, 10, 1, 13, 11, 6],\n",
        "        [4, 3, 2, 12, 9, 5, 15, 10, 11, 14, 1, 7, 6, 0, 8, 13]\n",
        "    ],\n",
        "    # S7\n",
        "    [\n",
        "        [4, 11, 2, 14, 15, 0, 8, 13, 3, 12, 9, 7, 5, 10, 6, 1],\n",
        "        [13, 0, 11, 7, 4, 9, 1, 10, 14, 3, 5, 12, 2, 15, 8, 6],\n",
        "        [1, 4, 11, 13, 12, 3, 7, 14, 10, 15, 6, 8, 0, 5, 9, 2],\n",
        "        [6, 11, 13, 8, 1, 4, 10, 7, 9, 5, 0, 15, 14, 2, 3, 12]\n",
        "    ],\n",
        "    # S8\n",
        "    [\n",
        "        [13, 2, 8, 4, 6, 15, 11, 1, 10, 9, 3, 14, 5, 0, 12, 7],\n",
        "        [1, 15, 13, 8, 10, 3, 7, 4, 12, 5, 6, 11, 0, 14, 9, 2],\n",
        "        [7, 11, 4, 1, 9, 12, 14, 2, 0, 6, 10, 13, 15, 3, 5, 8],\n",
        "        [2, 1, 14, 7, 4, 10, 8, 13, 15, 12, 9, 0, 3, 5, 6, 11]\n",
        "    ]\n",
        "]\n",
        "\n",
        "# Permutation (P) table\n",
        "P = [\n",
        "    16, 7, 20, 21,\n",
        "    29, 12, 28, 17,\n",
        "    1, 15, 23, 26,\n",
        "    5, 18, 31, 10,\n",
        "    2, 8, 24, 14,\n",
        "    32, 27, 3, 9,\n",
        "    19, 13, 30, 6,\n",
        "    22, 11, 4, 25\n",
        "]\n",
        "\n",
        "# Number of left shifts per round\n",
        "SHIFTS = [1, 1, 2, 2, 2, 2, 2, 2, 1, 2, 2, 2, 2, 2, 2, 1]\n",
        "\n",
        "def hex_to_bin(hex_str, n):\n",
        "    \"\"\"Convert hex string to binary string of length n\"\"\"\n",
        "    return bin(int(hex_str, 16))[2:].zfill(n)\n",
        "\n",
        "def bin_to_hex(bin_str):\n",
        "    \"\"\"Convert binary string to hex string\"\"\"\n",
        "    return hex(int(bin_str, 2))[2:].upper().zfill(16)\n",
        "\n",
        "def text_to_hex(text):\n",
        "    \"\"\"Convert text string to hex string\"\"\"\n",
        "    return text.encode('utf-8').hex().upper()\n",
        "\n",
        "def hex_to_text(hex_str):\n",
        "    \"\"\"Convert hex string to text string\"\"\"\n",
        "    return bytes.fromhex(hex_str).decode('utf-8', errors='replace')\n",
        "\n",
        "def pad_hex(hex_str, length):\n",
        "    \"\"\"Pad hex string with zeros to make it the required length\"\"\"\n",
        "    return hex_str.ljust(length, '0')[:length]\n",
        "\n",
        "def apply_permutation(bits, table):\n",
        "    \"\"\"Apply permutation table to bit string\"\"\"\n",
        "    return ''.join([bits[i-1] for i in table])\n",
        "\n",
        "def left_shift(bits, n):\n",
        "    \"\"\"Left shift bits by n positions\"\"\"\n",
        "    return bits[n:] + bits[:n]\n",
        "\n",
        "def generate_subkeys(key):\n",
        "    \"\"\"Generate 16 subkeys from the original key\"\"\"\n",
        "    # Convert key to binary and apply PC1\n",
        "    key_bin = hex_to_bin(key, 64)\n",
        "    key_pc1 = apply_permutation(key_bin, PC1)\n",
        "\n",
        "    # Split into C0 and D0\n",
        "    C = [key_pc1[:28]]\n",
        "    D = [key_pc1[28:]]\n",
        "\n",
        "    # Generate 16 subkeys\n",
        "    subkeys = []\n",
        "    for i in range(16):\n",
        "        # Left shift\n",
        "        C.append(left_shift(C[i], SHIFTS[i]))\n",
        "        D.append(left_shift(D[i], SHIFTS[i]))\n",
        "\n",
        "        # Combine and apply PC2\n",
        "        combined = C[i+1] + D[i+1]\n",
        "        subkey = apply_permutation(combined, PC2)\n",
        "        subkeys.append(subkey)\n",
        "\n",
        "    return subkeys\n",
        "\n",
        "def f_function(R, subkey):\n",
        "    \"\"\"The f function used in each round\"\"\"\n",
        "    # Expansion\n",
        "    R_expanded = apply_permutation(R, E)\n",
        "\n",
        "    # XOR with subkey\n",
        "    xor_result = bin(int(R_expanded, 2) ^ int(subkey, 2))[2:].zfill(48)\n",
        "\n",
        "    # S-box substitution\n",
        "    s_box_output = \"\"\n",
        "    for i in range(8):\n",
        "        block = xor_result[i*6:(i+1)*6]\n",
        "        row = int(block[0] + block[5], 2)\n",
        "        col = int(block[1:5], 2)\n",
        "        s_box_value = S_BOX[i][row][col]\n",
        "        s_box_output += bin(s_box_value)[2:].zfill(4)\n",
        "\n",
        "    # Permutation\n",
        "    return apply_permutation(s_box_output, P)\n",
        "\n",
        "def des_encrypt(plaintext, key, verbose=False):\n",
        "    \"\"\"DES encryption algorithm with verbose output\"\"\"\n",
        "    # Generate subkeys\n",
        "    subkeys = generate_subkeys(key)\n",
        "\n",
        "    # Convert plaintext to binary and apply IP\n",
        "    plaintext_bin = hex_to_bin(plaintext, 64)\n",
        "    ip_result = apply_permutation(plaintext_bin, IP)\n",
        "\n",
        "    # Split into L0 and R0\n",
        "    L = [ip_result[:32]]\n",
        "    R = [ip_result[32:]]\n",
        "\n",
        "    if verbose:\n",
        "        print(\"\\nInitial Permutation (IP):\")\n",
        "        print(f\"Plaintext (hex): {plaintext}\")\n",
        "        print(f\"Plaintext (bin): {plaintext_bin}\")\n",
        "        print(f\"After IP: {ip_result}\")\n",
        "        print(f\"L0: {L[0]}\")\n",
        "        print(f\"R0: {R[0]}\\n\")\n",
        "\n",
        "    # 16 rounds of Feistel network\n",
        "    for i in range(16):\n",
        "        # Calculate f(R[i], K[i+1])\n",
        "        f_result = f_function(R[i], subkeys[i])\n",
        "\n",
        "        # XOR with L[i] to get R[i+1]\n",
        "        new_R = bin(int(L[i], 2) ^ int(f_result, 2))[2:].zfill(32)\n",
        "\n",
        "        # L[i+1] is just R[i]\n",
        "        L.append(R[i])\n",
        "        R.append(new_R)\n",
        "\n",
        "        if verbose:\n",
        "            print(f\"Round {i+1}:\")\n",
        "            print(f\"Subkey K{i+1}: {subkeys[i]}\")\n",
        "            print(f\"L{i}: {L[i]}\")\n",
        "            print(f\"R{i}: {R[i]}\")\n",
        "            print(f\"f(R{i}, K{i+1}): {f_result}\")\n",
        "            print(f\"L{i+1}: {L[i+1]}\")\n",
        "            print(f\"R{i+1}: {R[i+1]}\\n\")\n",
        "\n",
        "    # Combine R16 and L16\n",
        "    combined = R[16] + L[16]\n",
        "\n",
        "    # Apply inverse IP\n",
        "    ciphertext_bin = apply_permutation(combined, IP_INV)\n",
        "    ciphertext = bin_to_hex(ciphertext_bin)\n",
        "\n",
        "    if verbose:\n",
        "        print(\"Final Round:\")\n",
        "        print(f\"R16: {R[16]}\")\n",
        "        print(f\"L16: {L[16]}\")\n",
        "        print(f\"Combined (R16L16): {combined}\")\n",
        "        print(f\"After IP^-1: {ciphertext_bin}\")\n",
        "        print(f\"Ciphertext (hex): {ciphertext}\")\n",
        "\n",
        "    return ciphertext\n",
        "\n",
        "def get_user_input(prompt, input_type):\n",
        "    \"\"\"Get user input and convert to hex if needed\"\"\"\n",
        "    while True:\n",
        "        user_input = input(prompt).strip()\n",
        "        \n",
        "        if input_type == 'hex':\n",
        "            # Validate hex input\n",
        "            if all(c in '0123456789ABCDEFabcdef' for c in user_input):\n",
        "                return user_input.upper()\n",
        "            print(\"Invalid hex input. Please enter only hexadecimal characters (0-9, A-F).\")\n",
        "        else:  # text input\n",
        "            # Convert text to hex and pad/truncate to 16 hex chars (8 bytes)\n",
        "            hex_str = text_to_hex(user_input)\n",
        "            return pad_hex(hex_str, 16)\n",
        "\n",
        "def main():\n",
        "    print(\"DES Encryption Implementation\")\n",
        "    print(\"----------------------------\")\n",
        "\n",
        "    # Get input type for plaintext\n",
        "    print(\"\\nPlaintext input format:\")\n",
        "    print(\"1. Plain text (ASCII)\")\n",
        "    print(\"2. Hexadecimal\")\n",
        "    plaintext_choice = input(\"Choose plaintext input format (1 or 2): \").strip()\n",
        "    \n",
        "    if plaintext_choice == '1':\n",
        "        plaintext = get_user_input(\"Enter plaintext (text string): \", 'text')\n",
        "    else:\n",
        "        plaintext = get_user_input(\"Enter plaintext (16 hex characters, e.g., 0123456789ABCDEF): \", 'hex')\n",
        "        if len(plaintext) != 16:\n",
        "            print(\"Error: Plaintext must be exactly 16 hex characters long\")\n",
        "            return\n",
        "\n",
        "    # Get input type for key\n",
        "    print(\"\\nKey input format:\")\n",
        "    print(\"1. Plain text (ASCII - will be converted to 8 bytes)\")\n",
        "    print(\"2. Hexadecimal (must be 16 hex chars)\")\n",
        "    key_choice = input(\"Choose key input format (1 or 2): \").strip()\n",
        "    \n",
        "    if key_choice == '1':\n",
        "        key = get_user_input(\"Enter key (text string): \", 'text')\n",
        "    else:\n",
        "        key = get_user_input(\"Enter key (16 hex characters, e.g., 133457799BBCDFF1): \", 'hex')\n",
        "        if len(key) != 16:\n",
        "            print(\"Error: Key must be exactly 16 hex characters long\")\n",
        "            return\n",
        "\n",
        "    # Show input summary\n",
        "    print(\"\\nInput Summary:\")\n",
        "    if plaintext_choice == '1':\n",
        "        print(f\"Plaintext (text): {hex_to_text(plaintext)}\")\n",
        "    print(f\"Plaintext (hex): {plaintext}\")\n",
        "    \n",
        "    if key_choice == '1':\n",
        "        print(f\"Key (text): {hex_to_text(key)}\")\n",
        "    print(f\"Key (hex): {key}\")\n",
        "\n",
        "    # Encrypt with verbose output\n",
        "    print(\"\\nStarting DES encryption...\")\n",
        "    ciphertext = des_encrypt(plaintext, key, verbose=True)\n",
        "    print(\"\\nDES Encryption Complete!\")\n",
        "    print(f\"Plaintext:  {plaintext}\")\n",
        "    print(f\"Key:        {key}\")\n",
        "    print(f\"Ciphertext: {ciphertext}\")\n",
        "\n",
        "    # Option to show ciphertext as text (though it may not be readable)\n",
        "    try:\n",
        "        ciphertext_text = hex_to_text(ciphertext)\n",
        "        print(f\"Ciphertext as text: {ciphertext_text}\")\n",
        "    except:\n",
        "        print(\"Ciphertext cannot be displayed as readable text\")\n",
        "\n",
        "if __name__ == \"__main__\":\n",
        "    main()"
      ]
    },
    {
      "cell_type": "code",
      "execution_count": null,
      "metadata": {},
      "outputs": [],
      "source": []
    }
  ],
  "metadata": {
    "colab": {
      "provenance": []
    },
    "kernelspec": {
      "display_name": "Python 3.10.6 64-bit",
      "language": "python",
      "name": "python3"
    },
    "language_info": {
      "codemirror_mode": {
        "name": "ipython",
        "version": 3
      },
      "file_extension": ".py",
      "mimetype": "text/x-python",
      "name": "python",
      "nbconvert_exporter": "python",
      "pygments_lexer": "ipython3",
      "version": "3.10.6 (tags/v3.10.6:9c7b4bd, Aug  1 2022, 21:53:49) [MSC v.1932 64 bit (AMD64)]"
    },
    "orig_nbformat": 4,
    "vscode": {
      "interpreter": {
        "hash": "b148fc9bfa8b60132af830e32e1690e4e023b803e92912df15b823b90141dda6"
      }
    }
  },
  "nbformat": 4,
  "nbformat_minor": 0
}
